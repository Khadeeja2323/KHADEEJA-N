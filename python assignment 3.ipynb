{
 "cells": [
  {
   "cell_type": "code",
   "execution_count": 9,
   "id": "f52eaf2d",
   "metadata": {},
   "outputs": [
    {
     "name": "stdout",
     "output_type": "stream",
     "text": [
      "No of elements5\n",
      "enter the elements of the list 7\n",
      "enter the elements of the list 8\n",
      "enter the elements of the list 9\n",
      "enter the elements of the list 6\n",
      "enter the elements of the list 5\n",
      "[7, 8, 9, 6, 5]\n",
      "sum of all the numbers in a list= 35\n"
     ]
    }
   ],
   "source": [
    "l=[]\n",
    "s=0\n",
    "n=int(input('No of elements'))\n",
    "for i in range(1,n+1):\n",
    "    x=int(input('enter the elements of the list '))\n",
    "    l.append(x)\n",
    "    s=s+x\n",
    "print(l)\n",
    "print('sum of all the numbers in a list=',s)"
   ]
  },
  {
   "cell_type": "code",
   "execution_count": 29,
   "id": "d0a9e0a0",
   "metadata": {},
   "outputs": [
    {
     "name": "stdout",
     "output_type": "stream",
     "text": [
      "Enter the string KHADEEJA\n",
      "string is not palindrome\n"
     ]
    }
   ],
   "source": [
    "s=input('Enter the string ')\n",
    "rev_s=s[::-1]\n",
    "if rev_s==s:\n",
    "    print('String is palindrome')\n",
    "else:\n",
    "    print('string is not palindrome')"
   ]
  },
  {
   "cell_type": "code",
   "execution_count": 30,
   "id": "d3f99d77",
   "metadata": {},
   "outputs": [
    {
     "name": "stdout",
     "output_type": "stream",
     "text": [
      "enter the number of terms 5\n",
      "fibonacci sequence:\n",
      "0\n",
      "1\n",
      "1\n",
      "2\n",
      "3\n"
     ]
    }
   ],
   "source": [
    "def fibonacci(n):\n",
    "    if(n<=1):\n",
    "        return n\n",
    "    else:\n",
    "        return(fibonacci(n-1)+fibonacci(n-2))\n",
    "n=int(input('enter the number of terms '))\n",
    "print('fibonacci sequence:')\n",
    "for i in range(n):\n",
    "    print(fibonacci(i))"
   ]
  },
  {
   "cell_type": "code",
   "execution_count": 23,
   "id": "5ac376b3",
   "metadata": {},
   "outputs": [
    {
     "name": "stdout",
     "output_type": "stream",
     "text": [
      "11 * 1 = 11\n",
      "11 * 2 = 22\n",
      "11 * 3 = 33\n",
      "11 * 4 = 44\n",
      "11 * 5 = 55\n",
      "11 * 6 = 66\n",
      "11 * 7 = 77\n",
      "11 * 8 = 88\n",
      "11 * 9 = 99\n",
      "11 * 10 = 110\n"
     ]
    }
   ],
   "source": [
    "def mul_table(N,i):\n",
    "    if (i>10):\n",
    "        return\n",
    "    print(N,'*',i,'=',N*i)\n",
    "    return mul_table(N,i+1)\n",
    "N=11\n",
    "mul_table(11,1)\n"
   ]
  },
  {
   "cell_type": "code",
   "execution_count": 9,
   "id": "9c721ea9",
   "metadata": {},
   "outputs": [
    {
     "name": "stdout",
     "output_type": "stream",
     "text": [
      "enter the word python programming\n",
      "No of vowels are 4\n",
      "no of consonants are 13\n"
     ]
    }
   ],
   "source": [
    "vcount=0\n",
    "ccount=0\n",
    "string=input('enter the word ')\n",
    "string=string.lower()\n",
    "for i in range(0,len(string)):\n",
    "    if string[i]in ('a','e','i','o','u'):\n",
    "        vcount=vcount+1\n",
    "    elif(string[i]>='a' and string[i]<='z'):\n",
    "        ccount=ccount+1\n",
    "print('No of vowels are',vcount)\n",
    "print('no of consonants are',ccount)\n"
   ]
  },
  {
   "cell_type": "code",
   "execution_count": 10,
   "id": "7c8291fa",
   "metadata": {},
   "outputs": [
    {
     "name": "stdout",
     "output_type": "stream",
     "text": [
      "khadeeja\n",
      "KHADEEJA\n"
     ]
    }
   ],
   "source": [
    "word=input()\n",
    "print(word.upper())"
   ]
  },
  {
   "cell_type": "code",
   "execution_count": 32,
   "id": "6b941dc0",
   "metadata": {},
   "outputs": [
    {
     "name": "stdout",
     "output_type": "stream",
     "text": [
      "original list:\n",
      "[12, 0, None, 23, None, -55, 234, 89, None, 0, 6, -12]\n",
      "\n",
      "remove none value from the said list:\n",
      "[12, 0, 23, -55, 234, 89, 0, 6, -12]\n"
     ]
    }
   ],
   "source": [
    "def remove_none(nums):\n",
    "    result=filter(lambda v:v is not None,nums)\n",
    "    return list(result)\n",
    "\n",
    "nums=[12,0,None,23,None,-55,234,89,None,0,6,-12]\n",
    "print('original list:')\n",
    "print(nums)\n",
    "print('\\nremove none value from the said list:')\n",
    "print(remove_none(nums))"
   ]
  },
  {
   "cell_type": "code",
   "execution_count": 31,
   "id": "7cb01373",
   "metadata": {},
   "outputs": [
    {
     "name": "stdout",
     "output_type": "stream",
     "text": [
      "The length of the rectangle is:  7\n",
      "The width of the rectangle is:  5\n",
      "The perimeter of the rectangle =  24\n",
      "The area of the rectangle=  35\n",
      "----------------\n",
      "The volume of myParellelepipede =  70\n"
     ]
    }
   ],
   "source": [
    "class Rectangle:\n",
    "    def __init__(self,length,width):\n",
    "        self.length=length\n",
    "        self.width=width\n",
    "    def perimeter(self):\n",
    "        return 2*(self.length+self.width)\n",
    "    def area(self):\n",
    "        return self.length*self.width\n",
    "    def display(self):\n",
    "        print('The length of the rectangle is: ',self.length)\n",
    "        print('The width of the rectangle is: ',self.width)\n",
    "        print('The perimeter of the rectangle = ',self.perimeter())\n",
    "        print('The area of the rectangle= ',self.area())\n",
    "class Parellelepiped(Rectangle):\n",
    "    def __init__(self,length,width,height):\n",
    "        Rectangle.__init__(self,length,width)\n",
    "        self.height=height\n",
    "    def volume(self):\n",
    "        return self.length*self.width*self.height\n",
    "\n",
    "myRectangle = Rectangle(7,5)\n",
    "myRectangle.display()\n",
    "print('----------------')\n",
    "myParellelepiped  =Parellelepiped(7,5,2)\n",
    "print('The volume of myParellelepipede = ',myParellelepiped.volume())"
   ]
  },
  {
   "cell_type": "code",
   "execution_count": 3,
   "id": "d18ded19",
   "metadata": {},
   "outputs": [
    {
     "name": "stdout",
     "output_type": "stream",
     "text": [
      "account number: 214578987412\n",
      "account name: albert\n",
      "account balance: 2600\n"
     ]
    }
   ],
   "source": [
    "class Bankaccount:\n",
    "    def __init__(self,accountnumber,name,balance):\n",
    "        self.accountnumber=accountnumber\n",
    "        self.name=name\n",
    "        self.balance=balance\n",
    "    def deposit(self,d):\n",
    "        self.balance=self.balance+d\n",
    "    def withdrawal(self,w):\n",
    "        if(self.balance<w):\n",
    "            print('impossible operation! insufficientbalance!')\n",
    "        else:\n",
    "            self.balance=self.balance-w\n",
    "    def bankfees(self):\n",
    "        self.balance(95/100)*self.balance\n",
    "    def display(self):\n",
    "        print('account number:',self.accountnumber)\n",
    "        print('account name:',self.name)\n",
    "        print('account balance:',self.balance)\n",
    "\n",
    "newaccount=Bankaccount(214578987412,'albert',2700)\n",
    "newaccount.withdrawal(300)\n",
    "newaccount.deposit(200)\n",
    "newaccount.display()"
   ]
  }
 ],
 "metadata": {
  "kernelspec": {
   "display_name": "Python 3 (ipykernel)",
   "language": "python",
   "name": "python3"
  },
  "language_info": {
   "codemirror_mode": {
    "name": "ipython",
    "version": 3
   },
   "file_extension": ".py",
   "mimetype": "text/x-python",
   "name": "python",
   "nbconvert_exporter": "python",
   "pygments_lexer": "ipython3",
   "version": "3.9.13"
  }
 },
 "nbformat": 4,
 "nbformat_minor": 5
}
